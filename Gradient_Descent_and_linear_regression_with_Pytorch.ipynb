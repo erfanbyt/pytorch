{
  "nbformat": 4,
  "nbformat_minor": 0,
  "metadata": {
    "colab": {
      "provenance": [],
      "authorship_tag": "ABX9TyNcCwIHirSeIduEKr52stY3",
      "include_colab_link": true
    },
    "kernelspec": {
      "name": "python3",
      "display_name": "Python 3"
    },
    "language_info": {
      "name": "python"
    }
  },
  "cells": [
    {
      "cell_type": "markdown",
      "metadata": {
        "id": "view-in-github",
        "colab_type": "text"
      },
      "source": [
        "<a href=\"https://colab.research.google.com/github/erfanbyt/pytorch/blob/main/Gradient_Descent_and_linear_regression_with_Pytorch.ipynb\" target=\"_parent\"><img src=\"https://colab.research.google.com/assets/colab-badge.svg\" alt=\"Open In Colab\"/></a>"
      ]
    },
    {
      "cell_type": "markdown",
      "source": [
        "## Notes"
      ],
      "metadata": {
        "id": "SNOcAj3HFNEO"
      }
    },
    {
      "cell_type": "markdown",
      "source": [],
      "metadata": {
        "id": "iYJJ6FP2FP8O"
      }
    },
    {
      "cell_type": "code",
      "execution_count": 167,
      "metadata": {
        "id": "bxzp5roXA3GM"
      },
      "outputs": [],
      "source": [
        "import numpy as np\n",
        "import torch"
      ]
    },
    {
      "cell_type": "markdown",
      "source": [
        "## Linear regression from scratch"
      ],
      "metadata": {
        "id": "W5YsJheEFQp5"
      }
    },
    {
      "cell_type": "markdown",
      "source": [
        "#### Training data"
      ],
      "metadata": {
        "id": "DiB8wfQ1FUD_"
      }
    },
    {
      "cell_type": "code",
      "source": [
        "# Input (temp, rainfall, humidity)\n",
        "inputs = np.array([[73, 67, 43], \n",
        "                   [91, 88, 64], \n",
        "                   [87, 134, 58], \n",
        "                   [102, 43, 37], \n",
        "                   [69, 96, 70]], dtype='float32')"
      ],
      "metadata": {
        "id": "LtVtJyEKA_Rf"
      },
      "execution_count": 168,
      "outputs": []
    },
    {
      "cell_type": "code",
      "source": [
        "# Targets (apples, oranges)\n",
        "targets = np.array([[56, 70], \n",
        "                    [81, 101], \n",
        "                    [119, 133], \n",
        "                    [22, 37], \n",
        "                    [103, 119]], dtype='float32')"
      ],
      "metadata": {
        "id": "FFxkKjbGFX9z"
      },
      "execution_count": 169,
      "outputs": []
    },
    {
      "cell_type": "markdown",
      "source": [
        "Converting the data to tensors"
      ],
      "metadata": {
        "id": "LN--mjAfFaK4"
      }
    },
    {
      "cell_type": "code",
      "source": [
        "inputs = torch.from_numpy(inputs)\n",
        "targets = torch.from_numpy(targets)"
      ],
      "metadata": {
        "id": "-j6pMMysFYJD"
      },
      "execution_count": 170,
      "outputs": []
    },
    {
      "cell_type": "code",
      "source": [
        "print(inputs)\n",
        "print(tragets)"
      ],
      "metadata": {
        "colab": {
          "base_uri": "https://localhost:8080/"
        },
        "id": "8CzKSqtWFlNE",
        "outputId": "14d2b3f1-6fa0-48a8-ad61-7d9c1891ca3d"
      },
      "execution_count": 171,
      "outputs": [
        {
          "output_type": "stream",
          "name": "stdout",
          "text": [
            "tensor([[ 73.,  67.,  43.],\n",
            "        [ 91.,  88.,  64.],\n",
            "        [ 87., 134.,  58.],\n",
            "        [102.,  43.,  37.],\n",
            "        [ 69.,  96.,  70.]])\n",
            "tensor([[ 56.,  70.],\n",
            "        [ 81., 101.],\n",
            "        [119., 133.],\n",
            "        [ 22.,  37.],\n",
            "        [103., 119.]])\n"
          ]
        }
      ]
    },
    {
      "cell_type": "markdown",
      "source": [
        "### Doing the linear regression from scratch\n",
        "\n",
        "The objective is to find the weigths for the equations below:\n",
        "\n",
        "yield_apple  = w11 * temp + w12 * rainfall + w13 * humidity + b1\n",
        "\n",
        "yield_orange = w21 * temp + w22 * rainfall + w23 * humidity + b2"
      ],
      "metadata": {
        "id": "6PToy4AWFrde"
      }
    },
    {
      "cell_type": "markdown",
      "source": [
        "Initializing the weights and biases randomly"
      ],
      "metadata": {
        "id": "lwkUE65dGGuz"
      }
    },
    {
      "cell_type": "code",
      "source": [
        "w = torch.randn(2, 3, requires_grad=True)  # weights\n",
        "b = torch.randn(2, requires_grad=True)  # biases\n",
        "print(w)\n",
        "print(b)"
      ],
      "metadata": {
        "colab": {
          "base_uri": "https://localhost:8080/"
        },
        "id": "AU5_Sq1tFpOL",
        "outputId": "e73c7c0c-ca86-48e6-b61c-88cdb989c1ec"
      },
      "execution_count": 172,
      "outputs": [
        {
          "output_type": "stream",
          "name": "stdout",
          "text": [
            "tensor([[ 0.1689,  1.6195,  0.4738],\n",
            "        [-0.8709,  0.1500,  1.2688]], requires_grad=True)\n",
            "tensor([1.3106, 1.6327], requires_grad=True)\n"
          ]
        }
      ]
    },
    {
      "cell_type": "markdown",
      "source": [
        "#### defining the model"
      ],
      "metadata": {
        "id": "4NfXdS6FIedo"
      }
    },
    {
      "cell_type": "code",
      "source": [
        "# @ --> matrix multiplication in pytorch\n",
        "# tranposing w before multiplications\n",
        "def model(x):\n",
        "  return x @ w.t() + b"
      ],
      "metadata": {
        "id": "Fryo1UvNH_Gi"
      },
      "execution_count": 173,
      "outputs": []
    },
    {
      "cell_type": "markdown",
      "source": [
        "#### generating predictions"
      ],
      "metadata": {
        "id": "pd_S1q_7I3JU"
      }
    },
    {
      "cell_type": "code",
      "source": [
        "preds = model(inputs)\n",
        "print(preds)"
      ],
      "metadata": {
        "colab": {
          "base_uri": "https://localhost:8080/"
        },
        "id": "pgR0fCKIIj2f",
        "outputId": "15b9a936-bafe-41b6-a3e4-2167dd6a084b"
      },
      "execution_count": 174,
      "outputs": [
        {
          "output_type": "stream",
          "name": "stdout",
          "text": [
            "tensor([[142.5188,   2.6655],\n",
            "        [189.5175,  16.7837],\n",
            "        [260.4961,  19.5553],\n",
            "        [105.7070, -33.8032],\n",
            "        [201.5999,  44.7559]], grad_fn=<AddBackward0>)\n"
          ]
        }
      ]
    },
    {
      "cell_type": "code",
      "source": [
        "print(targets)"
      ],
      "metadata": {
        "colab": {
          "base_uri": "https://localhost:8080/"
        },
        "id": "9Ze2cUXFLBWt",
        "outputId": "b441d373-ab61-4d52-c649-74309e668c51"
      },
      "execution_count": 175,
      "outputs": [
        {
          "output_type": "stream",
          "name": "stdout",
          "text": [
            "tensor([[ 56.,  70.],\n",
            "        [ 81., 101.],\n",
            "        [119., 133.],\n",
            "        [ 22.,  37.],\n",
            "        [103., 119.]])\n"
          ]
        }
      ]
    },
    {
      "cell_type": "markdown",
      "source": [
        "#### computing the loss"
      ],
      "metadata": {
        "id": "jWQRBPMvLD20"
      }
    },
    {
      "cell_type": "code",
      "source": [
        "def mse(t1, t2):\n",
        "  diff = t1 - t2\n",
        "  return torch.sum(diff * diff) / diff.numel()"
      ],
      "metadata": {
        "id": "2mDoudzWLVdF"
      },
      "execution_count": 176,
      "outputs": []
    },
    {
      "cell_type": "code",
      "source": [
        "# compute the loss\n",
        "loss = mse(preds, targets)\n",
        "print(loss)"
      ],
      "metadata": {
        "colab": {
          "base_uri": "https://localhost:8080/"
        },
        "id": "VjNQ_wm0MGLt",
        "outputId": "591a338e-0837-4435-d080-685866216d96"
      },
      "execution_count": 177,
      "outputs": [
        {
          "output_type": "stream",
          "name": "stdout",
          "text": [
            "tensor(9103.2803, grad_fn=<DivBackward0>)\n"
          ]
        }
      ]
    },
    {
      "cell_type": "markdown",
      "source": [
        "#### compute the gradients"
      ],
      "metadata": {
        "id": "DSNbuVInMjGv"
      }
    },
    {
      "cell_type": "markdown",
      "source": [
        "Pytorch will accumulate the gradients with next time you call .backward() and the new gradient values will be added to the existing ones --> this may lead to error."
      ],
      "metadata": {
        "id": "nXVOd555NdcY"
      }
    },
    {
      "cell_type": "code",
      "source": [
        "# loss.backward()\n",
        "# print(w)\n",
        "# print(w.grad)\n",
        "# print(b)\n",
        "# print(b.grad)\n",
        "\n",
        "# # reseting w and b to zero\n",
        "# w.grad.zero_()\n",
        "# b.grad.zero_()\n",
        "# print(w.grad)\n",
        "# print(b.grad)"
      ],
      "metadata": {
        "id": "b3zm88OoMPzp"
      },
      "execution_count": 178,
      "outputs": []
    },
    {
      "cell_type": "markdown",
      "source": [
        "### training the model using gradient descent"
      ],
      "metadata": {
        "id": "EQJ-3c7ARG5U"
      }
    },
    {
      "cell_type": "code",
      "source": [
        "# computing the gradient agian\n",
        "loss.backward()"
      ],
      "metadata": {
        "id": "cIHX9DroQsgD"
      },
      "execution_count": 179,
      "outputs": []
    },
    {
      "cell_type": "code",
      "source": [
        "# adjusting the weights and reseting the gradients\n",
        "with torch.no_grad():  # no-grad indcates to pytorch that we should not track, calculate, or modify gradients while updating the weights.\n",
        "  w -= w.grad * 1e-5\n",
        "  b -= b.grad * 1e-5\n",
        "  w.grad.zero_()\n",
        "  b.grad.zero_()"
      ],
      "metadata": {
        "id": "ocPCXIKsNWNv"
      },
      "execution_count": 180,
      "outputs": []
    },
    {
      "cell_type": "code",
      "source": [
        "print(w)\n",
        "print(b)"
      ],
      "metadata": {
        "colab": {
          "base_uri": "https://localhost:8080/"
        },
        "id": "nYUOKW3oP7cK",
        "outputId": "4b1e63a5-02ce-4227-d238-9126fc1aa515"
      },
      "execution_count": 181,
      "outputs": [
        {
          "output_type": "stream",
          "name": "stdout",
          "text": [
            "tensor([[ 0.0812,  1.5248,  0.4160],\n",
            "        [-0.8013,  0.2246,  1.3141]], requires_grad=True)\n",
            "tensor([1.3095, 1.6335], requires_grad=True)\n"
          ]
        }
      ]
    },
    {
      "cell_type": "code",
      "source": [
        "# calcuating the loss\n",
        "preds = model(inputs)\n",
        "loss = mse(preds, targets)"
      ],
      "metadata": {
        "id": "NuweSj8fQNlv"
      },
      "execution_count": 182,
      "outputs": []
    },
    {
      "cell_type": "code",
      "source": [
        "print(loss)"
      ],
      "metadata": {
        "colab": {
          "base_uri": "https://localhost:8080/"
        },
        "id": "VYvnKi-8QYMe",
        "outputId": "335549c0-5737-4674-c8d9-2710cdbb588d"
      },
      "execution_count": 183,
      "outputs": [
        {
          "output_type": "stream",
          "name": "stdout",
          "text": [
            "tensor(6147.4692, grad_fn=<DivBackward0>)\n"
          ]
        }
      ]
    },
    {
      "cell_type": "markdown",
      "source": [
        "### training for multiple epochs"
      ],
      "metadata": {
        "id": "cXyabVLGRTb3"
      }
    },
    {
      "cell_type": "code",
      "source": [
        "epochs = 200\n",
        "lr = 1e-5\n",
        "for i in range(epochs):\n",
        "  preds = model(inputs)\n",
        "  loss = mse(preds, targets)\n",
        "  loss.backward()\n",
        "  with torch.no_grad():\n",
        "    w -= w.grad * lr\n",
        "    b -= b.grad * lr\n",
        "    w.grad.zero_()\n",
        "    b.grad.zero_()"
      ],
      "metadata": {
        "id": "ZtUZm75YQZTB"
      },
      "execution_count": 184,
      "outputs": []
    },
    {
      "cell_type": "code",
      "source": [
        "# calculate the new loss\n",
        "preds = model(inputs)\n",
        "loss = mse(preds, targets)\n",
        "print(loss)"
      ],
      "metadata": {
        "colab": {
          "base_uri": "https://localhost:8080/"
        },
        "id": "YAXCOlJgSKHc",
        "outputId": "f3115ad7-d34d-4b07-bd43-ee9dcbfbe4b7"
      },
      "execution_count": 185,
      "outputs": [
        {
          "output_type": "stream",
          "name": "stdout",
          "text": [
            "tensor(26.8823, grad_fn=<DivBackward0>)\n"
          ]
        }
      ]
    },
    {
      "cell_type": "markdown",
      "source": [
        "### comparing the results\n",
        "\n",
        "the targets and preds are close to each others"
      ],
      "metadata": {
        "id": "E9uwVyMHSx-P"
      }
    },
    {
      "cell_type": "code",
      "source": [
        "print(preds)\n",
        "print(targets)"
      ],
      "metadata": {
        "colab": {
          "base_uri": "https://localhost:8080/"
        },
        "id": "dPwDD4NaSk0C",
        "outputId": "25334135-466b-47ab-995e-71f01cfd352f"
      },
      "execution_count": 186,
      "outputs": [
        {
          "output_type": "stream",
          "name": "stdout",
          "text": [
            "tensor([[ 57.6658,  70.0634],\n",
            "        [ 78.6535, 104.3392],\n",
            "        [125.9737, 125.0138],\n",
            "        [ 22.3309,  34.3830],\n",
            "        [ 95.2669, 127.3796]], grad_fn=<AddBackward0>)\n",
            "tensor([[ 56.,  70.],\n",
            "        [ 81., 101.],\n",
            "        [119., 133.],\n",
            "        [ 22.,  37.],\n",
            "        [103., 119.]])\n"
          ]
        }
      ]
    },
    {
      "cell_type": "markdown",
      "source": [
        "## Linear regression using pytorch built-ins"
      ],
      "metadata": {
        "id": "sd7Vk_SPTGx4"
      }
    },
    {
      "cell_type": "code",
      "source": [
        "# importing packages for neural network\n",
        "import torch.nn as nn"
      ],
      "metadata": {
        "id": "WWYREAXdS2Zh"
      },
      "execution_count": 187,
      "outputs": []
    },
    {
      "cell_type": "markdown",
      "source": [
        "training data"
      ],
      "metadata": {
        "id": "CeaWnBsHTfa0"
      }
    },
    {
      "cell_type": "code",
      "source": [
        "# Input (temp, rainfall, humidity)\n",
        "inputs = np.array([[73, 67, 43], \n",
        "                   [91, 88, 64], \n",
        "                   [87, 134, 58], \n",
        "                   [102, 43, 37], \n",
        "                   [69, 96, 70], \n",
        "                   [74, 66, 43], \n",
        "                   [91, 87, 65], \n",
        "                   [88, 134, 59], \n",
        "                   [101, 44, 37], \n",
        "                   [68, 96, 71], \n",
        "                   [73, 66, 44], \n",
        "                   [92, 87, 64], \n",
        "                   [87, 135, 57], \n",
        "                   [103, 43, 36], \n",
        "                   [68, 97, 70]], \n",
        "                  dtype='float32')\n",
        "\n",
        "# Targets (apples, oranges)\n",
        "targets = np.array([[56, 70], \n",
        "                    [81, 101], \n",
        "                    [119, 133], \n",
        "                    [22, 37], \n",
        "                    [103, 119],\n",
        "                    [57, 69], \n",
        "                    [80, 102], \n",
        "                    [118, 132], \n",
        "                    [21, 38], \n",
        "                    [104, 118], \n",
        "                    [57, 69], \n",
        "                    [82, 100], \n",
        "                    [118, 134], \n",
        "                    [20, 38], \n",
        "                    [102, 120]], \n",
        "                   dtype='float32')\n",
        "\n",
        "inputs = torch.from_numpy(inputs)\n",
        "targets = torch.from_numpy(targets)"
      ],
      "metadata": {
        "id": "H4y1BwfwTb5j"
      },
      "execution_count": 188,
      "outputs": []
    },
    {
      "cell_type": "markdown",
      "source": [
        "### dataset and dataloader\n",
        "\n",
        "We'll create a TensorDataset, which allows access to rows from inputs and targets as tuples, and provides standard APIs for working with many different types of datasets in PyTorch.\n",
        "\n",
        "We'll also create a DataLoader, which can split the data into batches of a predefined size while training. It also provides other utilities like shuffling and random sampling of the data."
      ],
      "metadata": {
        "id": "jhRSS_QzUQus"
      }
    },
    {
      "cell_type": "code",
      "source": [
        "from torch.utils.data import TensorDataset\n",
        "from torch.utils.data import DataLoader"
      ],
      "metadata": {
        "id": "kYp4LkAYThX7"
      },
      "execution_count": 192,
      "outputs": []
    },
    {
      "cell_type": "code",
      "source": [
        "# define the dataset\n",
        "train_ds = TensorDataset(inputs, targets)\n",
        "train_ds[:2]"
      ],
      "metadata": {
        "colab": {
          "base_uri": "https://localhost:8080/"
        },
        "id": "3A6nbPdPUwox",
        "outputId": "54247d56-f264-45a6-9e5f-94f09a951301"
      },
      "execution_count": 190,
      "outputs": [
        {
          "output_type": "execute_result",
          "data": {
            "text/plain": [
              "(tensor([[73., 67., 43.],\n",
              "         [91., 88., 64.]]), tensor([[ 56.,  70.],\n",
              "         [ 81., 101.]]))"
            ]
          },
          "metadata": {},
          "execution_count": 190
        }
      ]
    },
    {
      "cell_type": "code",
      "source": [
        "# define data loader\n",
        "batch_size = 5\n",
        "train_dl = DataLoader(train_ds, batch_size, shuffle=True)\n"
      ],
      "metadata": {
        "id": "CL3zyMPXU5Dk"
      },
      "execution_count": 193,
      "outputs": []
    },
    {
      "cell_type": "code",
      "source": [
        "for xb, yb in train_dl:\n",
        "  print('batch 1:')\n",
        "  print(xb)\n",
        "  print(yb)\n",
        "  break"
      ],
      "metadata": {
        "colab": {
          "base_uri": "https://localhost:8080/"
        },
        "id": "43FOSOpMVM5b",
        "outputId": "43e60b7a-6b46-4f2e-8799-727d17bfb0c1"
      },
      "execution_count": 195,
      "outputs": [
        {
          "output_type": "stream",
          "name": "stdout",
          "text": [
            "batch 1:\n",
            "tensor([[101.,  44.,  37.],\n",
            "        [ 88., 134.,  59.],\n",
            "        [ 73.,  66.,  44.],\n",
            "        [ 68.,  97.,  70.],\n",
            "        [ 68.,  96.,  71.]])\n",
            "tensor([[ 21.,  38.],\n",
            "        [118., 132.],\n",
            "        [ 57.,  69.],\n",
            "        [102., 120.],\n",
            "        [104., 118.]])\n"
          ]
        }
      ]
    },
    {
      "cell_type": "markdown",
      "source": [
        "### nn.linear\n",
        "\n",
        "Instead of initializing the weights & biases manually, we can define the model using the nn.Linear class from PyTorch, which does it automatically."
      ],
      "metadata": {
        "id": "2oE_M3AhVgQD"
      }
    },
    {
      "cell_type": "code",
      "source": [
        "# use ? and the name of the function to the help of it!\n",
        "#?nn.Linear"
      ],
      "metadata": {
        "id": "uly1Y6cYW4aW"
      },
      "execution_count": 204,
      "outputs": []
    },
    {
      "cell_type": "code",
      "source": [
        "# define the model\n",
        "model = nn.Linear(3,2)\n",
        "print(model.weight)\n",
        "print(model.bias)"
      ],
      "metadata": {
        "colab": {
          "base_uri": "https://localhost:8080/"
        },
        "id": "GaUyM0q7VU74",
        "outputId": "4f10a096-0ba2-41eb-b5cb-fb5233d34751"
      },
      "execution_count": 197,
      "outputs": [
        {
          "output_type": "stream",
          "name": "stdout",
          "text": [
            "Parameter containing:\n",
            "tensor([[ 0.5054,  0.2476, -0.0704],\n",
            "        [ 0.5446, -0.0832,  0.3560]], requires_grad=True)\n",
            "Parameter containing:\n",
            "tensor([0.1566, 0.2058], requires_grad=True)\n"
          ]
        }
      ]
    },
    {
      "cell_type": "markdown",
      "source": [
        "PyTorch models also have a helpful .parameters method, which returns a list containing all the weights and bias matrices present in the model. For our linear regression model, we have one weight matrix and one bias matrix."
      ],
      "metadata": {
        "id": "Y34SvGK0V25O"
      }
    },
    {
      "cell_type": "code",
      "source": [
        "# parameters\n",
        "list(model.parameters())"
      ],
      "metadata": {
        "colab": {
          "base_uri": "https://localhost:8080/"
        },
        "id": "o_BehH6XVtri",
        "outputId": "b2659eb0-4b6f-465b-d775-135edf1505ec"
      },
      "execution_count": 198,
      "outputs": [
        {
          "output_type": "execute_result",
          "data": {
            "text/plain": [
              "[Parameter containing:\n",
              " tensor([[ 0.5054,  0.2476, -0.0704],\n",
              "         [ 0.5446, -0.0832,  0.3560]], requires_grad=True),\n",
              " Parameter containing:\n",
              " tensor([0.1566, 0.2058], requires_grad=True)]"
            ]
          },
          "metadata": {},
          "execution_count": 198
        }
      ]
    },
    {
      "cell_type": "code",
      "source": [
        "# generate predictions\n",
        "preds = model(inputs)\n",
        "preds"
      ],
      "metadata": {
        "colab": {
          "base_uri": "https://localhost:8080/"
        },
        "id": "Rb6VOuI4V6Ee",
        "outputId": "6d8c0844-7582-499a-e21a-0e5d50590715"
      },
      "execution_count": 200,
      "outputs": [
        {
          "output_type": "execute_result",
          "data": {
            "text/plain": [
              "tensor([[50.6092, 49.6903],\n",
              "        [63.4265, 65.2203],\n",
              "        [73.2154, 57.0768],\n",
              "        [59.7460, 65.3452],\n",
              "        [53.8663, 54.7093],\n",
              "        [50.8670, 50.3181],\n",
              "        [63.1086, 65.6595],\n",
              "        [73.6504, 57.9774],\n",
              "        [59.4882, 64.7173],\n",
              "        [53.2905, 54.5207],\n",
              "        [50.2912, 50.1295],\n",
              "        [63.6844, 65.8481],\n",
              "        [73.5333, 56.6376],\n",
              "        [60.3218, 65.5338],\n",
              "        [53.6085, 54.0815]], grad_fn=<AddmmBackward0>)"
            ]
          },
          "metadata": {},
          "execution_count": 200
        }
      ]
    },
    {
      "cell_type": "markdown",
      "source": [
        "### loss function\n",
        "\n",
        "nn.functional contains many useful loss functions and several other utilities"
      ],
      "metadata": {
        "id": "gBXMWsnEWYpI"
      }
    },
    {
      "cell_type": "code",
      "source": [
        "# import nn.functional\n",
        "import torch.nn.functional as F"
      ],
      "metadata": {
        "id": "mG0h0SJfWR0I"
      },
      "execution_count": 201,
      "outputs": []
    },
    {
      "cell_type": "code",
      "source": [
        "loss_fn = F.mse_loss"
      ],
      "metadata": {
        "id": "nTwxo4-3Wg68"
      },
      "execution_count": 202,
      "outputs": []
    },
    {
      "cell_type": "code",
      "source": [
        "# compute the loss\n",
        "loss = loss_fn(model(inputs), targets)\n",
        "loss"
      ],
      "metadata": {
        "colab": {
          "base_uri": "https://localhost:8080/"
        },
        "id": "fInFBZKbWrqW",
        "outputId": "c7bbaadc-4c00-4e7e-9bbb-58455a76f835"
      },
      "execution_count": 205,
      "outputs": [
        {
          "output_type": "execute_result",
          "data": {
            "text/plain": [
              "tensor(1861.2623, grad_fn=<MseLossBackward0>)"
            ]
          },
          "metadata": {},
          "execution_count": 205
        }
      ]
    },
    {
      "cell_type": "markdown",
      "source": [
        "### optimizer\n",
        "\n",
        "Note that model.parameters() is passed as an argument to optim.SGD so that the optimizer knows which matrices should be modified during the update step"
      ],
      "metadata": {
        "id": "1ohrbyKyXG4H"
      }
    },
    {
      "cell_type": "code",
      "source": [
        "opt = torch.optim.SGD(model.parameters(), lr=1e-5)"
      ],
      "metadata": {
        "id": "T0BMtSDwWzhU"
      },
      "execution_count": 206,
      "outputs": []
    },
    {
      "cell_type": "markdown",
      "source": [
        "### Train the model"
      ],
      "metadata": {
        "id": "8kPFgpmHXcvO"
      }
    },
    {
      "cell_type": "code",
      "source": [
        "def fit(epochs, model, loss_fn, opt, train_dl):\n",
        "\n",
        "  # train for each number of epoch\n",
        "  for epoch in range(epochs):\n",
        "\n",
        "    # train with batches of the data\n",
        "    for xb, yb in train_dl:\n",
        "      \n",
        "      # generate the prediction \n",
        "      pred = model(xb)\n",
        "\n",
        "      # calcuate the loss\n",
        "      loss = loss_fn(pred, yb)\n",
        "\n",
        "      # compute gradients\n",
        "      loss.backward()\n",
        "\n",
        "      # update the parameters using gradient \n",
        "      opt.step()\n",
        "\n",
        "      # reset the gradient to zero\n",
        "      opt.zero_grad()\n",
        "\n",
        "      # Print the progress\n",
        "      if (epoch+1) % 10 == 0:\n",
        "          print('Epoch [{}/{}], Loss: {:.4f}'.format(epoch+1, epochs, loss.item()))"
      ],
      "metadata": {
        "id": "IYVzy3mxXcEZ"
      },
      "execution_count": 207,
      "outputs": []
    },
    {
      "cell_type": "code",
      "source": [
        "fit(100, model, loss_fn, opt, train_dl)"
      ],
      "metadata": {
        "colab": {
          "base_uri": "https://localhost:8080/"
        },
        "id": "NZFkOITgYaeL",
        "outputId": "e6febadb-6a74-495a-bc5c-87f695665320"
      },
      "execution_count": 208,
      "outputs": [
        {
          "output_type": "stream",
          "name": "stdout",
          "text": [
            "Epoch [10/100], Loss: 844.0866\n",
            "Epoch [10/100], Loss: 1046.0306\n",
            "Epoch [10/100], Loss: 197.9391\n",
            "Epoch [20/100], Loss: 413.0467\n",
            "Epoch [20/100], Loss: 202.3129\n",
            "Epoch [20/100], Loss: 778.8761\n",
            "Epoch [30/100], Loss: 166.6920\n",
            "Epoch [30/100], Loss: 715.8894\n",
            "Epoch [30/100], Loss: 143.2899\n",
            "Epoch [40/100], Loss: 128.4565\n",
            "Epoch [40/100], Loss: 383.8614\n",
            "Epoch [40/100], Loss: 166.8421\n",
            "Epoch [50/100], Loss: 166.6998\n",
            "Epoch [50/100], Loss: 11.9832\n",
            "Epoch [50/100], Loss: 293.2950\n",
            "Epoch [60/100], Loss: 212.6195\n",
            "Epoch [60/100], Loss: 13.5321\n",
            "Epoch [60/100], Loss: 109.7648\n",
            "Epoch [70/100], Loss: 84.1226\n",
            "Epoch [70/100], Loss: 79.1755\n",
            "Epoch [70/100], Loss: 81.1316\n",
            "Epoch [80/100], Loss: 106.4217\n",
            "Epoch [80/100], Loss: 53.6017\n",
            "Epoch [80/100], Loss: 31.0737\n",
            "Epoch [90/100], Loss: 54.3171\n",
            "Epoch [90/100], Loss: 26.7336\n",
            "Epoch [90/100], Loss: 65.7023\n",
            "Epoch [100/100], Loss: 49.1939\n",
            "Epoch [100/100], Loss: 36.2880\n",
            "Epoch [100/100], Loss: 25.6970\n"
          ]
        }
      ]
    },
    {
      "cell_type": "code",
      "source": [],
      "metadata": {
        "id": "w6SO_dhBYa9P"
      },
      "execution_count": null,
      "outputs": []
    }
  ]
}