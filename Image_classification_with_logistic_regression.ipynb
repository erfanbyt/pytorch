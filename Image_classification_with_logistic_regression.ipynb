{
  "nbformat": 4,
  "nbformat_minor": 0,
  "metadata": {
    "colab": {
      "provenance": [],
      "authorship_tag": "ABX9TyMXfSZB4gY/CYb66dUs9MKH",
      "include_colab_link": true
    },
    "kernelspec": {
      "name": "python3",
      "display_name": "Python 3"
    },
    "language_info": {
      "name": "python"
    }
  },
  "cells": [
    {
      "cell_type": "markdown",
      "metadata": {
        "id": "view-in-github",
        "colab_type": "text"
      },
      "source": [
        "<a href=\"https://colab.research.google.com/github/erfanbyt/pytorch/blob/main/Image_classification_with_logistic_regression.ipynb\" target=\"_parent\"><img src=\"https://colab.research.google.com/assets/colab-badge.svg\" alt=\"Open In Colab\"/></a>"
      ]
    },
    {
      "cell_type": "code",
      "execution_count": null,
      "metadata": {
        "id": "N9-64DCaahL9"
      },
      "outputs": [],
      "source": [
        "import torch\n",
        "import torchvision\n",
        "from torchvision.datasets import MNIST\n",
        "import matplotlib.pyplot as plt\n",
        "import numpy as np"
      ]
    },
    {
      "cell_type": "code",
      "source": [
        "# download the training data\n",
        "dataset = MNIST(root='data/', download=True)"
      ],
      "metadata": {
        "id": "zkXSzrBjav7J"
      },
      "execution_count": null,
      "outputs": []
    },
    {
      "cell_type": "code",
      "source": [
        "len(dataset)"
      ],
      "metadata": {
        "colab": {
          "base_uri": "https://localhost:8080/"
        },
        "id": "thXGSomzbMK2",
        "outputId": "05062929-57d0-47c9-a248-2cbf5e88797a"
      },
      "execution_count": null,
      "outputs": [
        {
          "output_type": "execute_result",
          "data": {
            "text/plain": [
              "60000"
            ]
          },
          "metadata": {},
          "execution_count": 56
        }
      ]
    },
    {
      "cell_type": "code",
      "source": [
        "test_dataset = MNIST(root='data/', train=False)\n",
        "len(test_dataset)"
      ],
      "metadata": {
        "colab": {
          "base_uri": "https://localhost:8080/"
        },
        "id": "ReN_eIgUbTvj",
        "outputId": "2447bada-76a3-41a7-a8b2-68e9b58d3e15"
      },
      "execution_count": null,
      "outputs": [
        {
          "output_type": "execute_result",
          "data": {
            "text/plain": [
              "10000"
            ]
          },
          "metadata": {},
          "execution_count": 57
        }
      ]
    },
    {
      "cell_type": "markdown",
      "source": [
        "#### exploring the dataset"
      ],
      "metadata": {
        "id": "7L8XVJSubi6q"
      }
    },
    {
      "cell_type": "code",
      "source": [
        "dataset[0]  # (image type, label)"
      ],
      "metadata": {
        "colab": {
          "base_uri": "https://localhost:8080/"
        },
        "id": "YBtFERMXbgXa",
        "outputId": "f9c7169e-3722-42aa-fe4c-70f19626baf7"
      },
      "execution_count": null,
      "outputs": [
        {
          "output_type": "execute_result",
          "data": {
            "text/plain": [
              "(<PIL.Image.Image image mode=L size=28x28 at 0x7F3C708225B0>, 5)"
            ]
          },
          "metadata": {},
          "execution_count": 58
        }
      ]
    },
    {
      "cell_type": "code",
      "source": [
        "image, label = dataset[0]\n",
        "plt.imshow(image, cmap='gray')\n",
        "print('Label', label)"
      ],
      "metadata": {
        "colab": {
          "base_uri": "https://localhost:8080/",
          "height": 282
        },
        "id": "sGkkxxQ5blam",
        "outputId": "fb793004-371d-4c40-ca35-ad839b620411"
      },
      "execution_count": null,
      "outputs": [
        {
          "output_type": "stream",
          "name": "stdout",
          "text": [
            "Label 5\n"
          ]
        },
        {
          "output_type": "display_data",
          "data": {
            "text/plain": [
              "<Figure size 432x288 with 1 Axes>"
            ],
            "image/png": "[encoded data removed]"
          },
          "metadata": {
            "needs_background": "light"
          }
        }
      ]
    },
    {
      "cell_type": "markdown",
      "source": [
        "#### preparing the dataset\n",
        "\n",
        "pytorch can't work with the PIL format data and it requires the tensor data --> conversion needed"
      ],
      "metadata": {
        "id": "GIMrnnK4cDnu"
      }
    },
    {
      "cell_type": "code",
      "source": [
        "import torchvision.transforms as transforms"
      ],
      "metadata": {
        "id": "mixGj0Vvb7zk"
      },
      "execution_count": null,
      "outputs": []
    },
    {
      "cell_type": "markdown",
      "source": [
        "applying the transformation when the images are loaded"
      ],
      "metadata": {
        "id": "Cx-ksD6fcYnX"
      }
    },
    {
      "cell_type": "code",
      "source": [
        "dataset = MNIST(root='data/', train=True, transform=transforms.ToTensor())"
      ],
      "metadata": {
        "id": "m5srmz1lcSIT"
      },
      "execution_count": null,
      "outputs": []
    },
    {
      "cell_type": "code",
      "source": [
        "img_tensor, label = dataset[0]\n",
        "print(img_tensor.shape, label)"
      ],
      "metadata": {
        "colab": {
          "base_uri": "https://localhost:8080/"
        },
        "id": "QgmW5x9Uciqw",
        "outputId": "6d957521-0e27-4333-e70b-195beb3561c6"
      },
      "execution_count": null,
      "outputs": [
        {
          "output_type": "stream",
          "name": "stdout",
          "text": [
            "torch.Size([1, 28, 28]) 5\n"
          ]
        }
      ]
    },
    {
      "cell_type": "markdown",
      "source": [
        "#### training and validation datasets"
      ],
      "metadata": {
        "id": "e90i1ZJddNE5"
      }
    },
    {
      "cell_type": "code",
      "source": [
        "from torch.utils.data import random_split\n",
        "\n",
        "train_ds, val_ds = random_split(dataset, [50000, 10000])\n",
        "print(len(train_ds), len(val_ds))"
      ],
      "metadata": {
        "colab": {
          "base_uri": "https://localhost:8080/"
        },
        "id": "VyYlmZPOcsep",
        "outputId": "cc83beaf-6a6e-4a0a-87ba-2bfe26910c39"
      },
      "execution_count": null,
      "outputs": [
        {
          "output_type": "stream",
          "name": "stdout",
          "text": [
            "50000 10000\n"
          ]
        }
      ]
    },
    {
      "cell_type": "code",
      "source": [
        "from torch.utils.data import DataLoader\n",
        "\n",
        "batch_size = 128\n",
        "\n",
        "train_loader = DataLoader(train_ds, batch_size, shuffle=True)\n",
        "val_loader = DataLoader(val_ds, batch_size)"
      ],
      "metadata": {
        "id": "DjA_Ox2rePTA"
      },
      "execution_count": null,
      "outputs": []
    },
    {
      "cell_type": "markdown",
      "source": [
        "#### model"
      ],
      "metadata": {
        "id": "crzmLc5UerdM"
      }
    },
    {
      "cell_type": "code",
      "source": [
        "import torch.nn as nn\n",
        "\n",
        "input_size = 28*28\n",
        "num_classes = 10\n",
        "\n",
        "# logestic regression model\n",
        "model = nn.Linear(input_size, num_classes)"
      ],
      "metadata": {
        "id": "8bH7Ij2FesRn"
      },
      "execution_count": null,
      "outputs": []
    },
    {
      "cell_type": "code",
      "source": [
        "print(model.weight.shape)\n",
        "print(model.weight)"
      ],
      "metadata": {
        "colab": {
          "base_uri": "https://localhost:8080/"
        },
        "id": "LoOgGGcPesri",
        "outputId": "0aab1279-a1ed-4f4b-b2cc-027d59473644"
      },
      "execution_count": null,
      "outputs": [
        {
          "output_type": "stream",
          "name": "stdout",
          "text": [
            "torch.Size([10, 784])\n",
            "Parameter containing:\n",
            "tensor([[-0.0022, -0.0335, -0.0293,  ..., -0.0037, -0.0094, -0.0305],\n",
            "        [ 0.0342,  0.0114, -0.0270,  ...,  0.0323,  0.0338, -0.0054],\n",
            "        [ 0.0234, -0.0188,  0.0286,  ..., -0.0074, -0.0206, -0.0056],\n",
            "        ...,\n",
            "        [ 0.0067,  0.0341,  0.0200,  ...,  0.0002,  0.0278,  0.0274],\n",
            "        [ 0.0279,  0.0229, -0.0248,  ...,  0.0161, -0.0155,  0.0346],\n",
            "        [-0.0144,  0.0174, -0.0029,  ...,  0.0185, -0.0329,  0.0079]],\n",
            "       requires_grad=True)\n"
          ]
        }
      ]
    },
    {
      "cell_type": "code",
      "source": [
        "print(model.bias.shape)\n",
        "print(model.bias)"
      ],
      "metadata": {
        "colab": {
          "base_uri": "https://localhost:8080/"
        },
        "id": "J4V8ZkZ_estt",
        "outputId": "31606507-b2ac-4169-e8cb-feeb0dd28a71"
      },
      "execution_count": null,
      "outputs": [
        {
          "output_type": "stream",
          "name": "stdout",
          "text": [
            "torch.Size([10])\n",
            "Parameter containing:\n",
            "tensor([ 0.0112, -0.0259, -0.0298,  0.0116,  0.0138,  0.0173,  0.0014, -0.0112,\n",
            "        -0.0287, -0.0353], requires_grad=True)\n"
          ]
        }
      ]
    },
    {
      "cell_type": "code",
      "source": [
        "# for images, labels in train_loader:\n",
        "#     print(labels)\n",
        "#     print(images.shape)\n",
        "#     outputs = model(images.reshape(-1, 784))  # flatten the input\n",
        "#     print(outputs)\n",
        "#     break"
      ],
      "metadata": {
        "colab": {
          "base_uri": "https://localhost:8080/"
        },
        "id": "26yRSTi2eswb",
        "outputId": "ac0113e8-6eda-4e39-a254-dcc14baaa98d"
      },
      "execution_count": null,
      "outputs": [
        {
          "output_type": "stream",
          "name": "stdout",
          "text": [
            "tensor([8, 3, 2, 6, 4, 8, 7, 9, 5, 1, 8, 0, 1, 5, 4, 1, 3, 5, 9, 8, 8, 4, 8, 0,\n",
            "        9, 5, 8, 8, 0, 4, 7, 5, 6, 2, 5, 9, 8, 0, 0, 3, 9, 8, 7, 4, 2, 4, 4, 1,\n",
            "        2, 5, 9, 4, 2, 1, 4, 4, 3, 8, 0, 8, 0, 7, 5, 5, 2, 8, 5, 7, 6, 6, 5, 3,\n",
            "        6, 4, 9, 2, 5, 4, 9, 2, 2, 6, 3, 3, 9, 3, 3, 3, 4, 5, 4, 5, 9, 0, 5, 0,\n",
            "        6, 0, 7, 3, 7, 0, 5, 5, 6, 8, 3, 3, 5, 9, 8, 4, 0, 0, 8, 1, 8, 6, 2, 8,\n",
            "        5, 0, 7, 7, 3, 3, 7, 1])\n",
            "torch.Size([128, 1, 28, 28])\n",
            "tensor([[-0.1534, -0.1993, -0.1482,  ..., -0.1043, -0.4428,  0.1797],\n",
            "        [ 0.1209,  0.1583, -0.2673,  ..., -0.1028,  0.1508,  0.0498],\n",
            "        [-0.1159,  0.0586, -0.0678,  ...,  0.0017, -0.1331,  0.6517],\n",
            "        ...,\n",
            "        [ 0.0550,  0.0144, -0.1484,  ...,  0.1130,  0.1847,  0.2570],\n",
            "        [ 0.1179, -0.3254,  0.0511,  ..., -0.0346,  0.0621,  0.0408],\n",
            "        [ 0.0906, -0.0943, -0.0989,  ...,  0.0909, -0.1086,  0.2153]],\n",
            "       grad_fn=<AddmmBackward0>)\n"
          ]
        }
      ]
    },
    {
      "cell_type": "markdown",
      "source": [
        "## Creating a class to do all the operations"
      ],
      "metadata": {
        "id": "Nwima7e7zDDt"
      }
    },
    {
      "cell_type": "code",
      "source": [
        "class MNISTModel(nn.Module):\n",
        "  def __init__(self):\n",
        "    super().__init__()\n",
        "    self.linear = nn.Linear(input_size, num_classes)\n",
        "\n",
        "  def forward(self, xb):\n",
        "    xb = xb.reshape(-1, 784)\n",
        "    out = self.linear(xb)\n",
        "    return out\n"
      ],
      "metadata": {
        "id": "I2zt6AA4es65"
      },
      "execution_count": null,
      "outputs": []
    },
    {
      "cell_type": "code",
      "source": [
        "model = MNISTModel()"
      ],
      "metadata": {
        "id": "HmJ2dT__-6eC"
      },
      "execution_count": null,
      "outputs": []
    },
    {
      "cell_type": "code",
      "source": [
        "print(model.linear.weight.shape)"
      ],
      "metadata": {
        "colab": {
          "base_uri": "https://localhost:8080/"
        },
        "id": "CxrqYZAv-9Vw",
        "outputId": "b1dafa4d-8b4b-4e58-fb03-0ec3971ca729"
      },
      "execution_count": null,
      "outputs": [
        {
          "output_type": "stream",
          "name": "stdout",
          "text": [
            "torch.Size([10, 784])\n"
          ]
        }
      ]
    },
    {
      "cell_type": "code",
      "source": [
        "for images, labels in train_loader:\n",
        "  outputs = model(images)\n",
        "  break"
      ],
      "metadata": {
        "id": "VAAkGtOV_hHY"
      },
      "execution_count": null,
      "outputs": []
    },
    {
      "cell_type": "code",
      "source": [
        "outputs[0]"
      ],
      "metadata": {
        "colab": {
          "base_uri": "https://localhost:8080/"
        },
        "id": "y5pnfu6kADXS",
        "outputId": "07440636-a755-404f-e532-4be21dc60b8e"
      },
      "execution_count": null,
      "outputs": [
        {
          "output_type": "execute_result",
          "data": {
            "text/plain": [
              "tensor([ 0.4289, -0.0969, -0.2850,  0.1589,  0.1175,  0.0234,  0.1890, -0.1181,\n",
              "         0.1604,  0.1569], grad_fn=<SelectBackward0>)"
            ]
          },
          "metadata": {},
          "execution_count": 108
        }
      ]
    },
    {
      "cell_type": "markdown",
      "source": [
        "#### implementing softmax function"
      ],
      "metadata": {
        "id": "XYwqqXOwAVmS"
      }
    },
    {
      "cell_type": "code",
      "source": [
        "import torch.nn.functional as F"
      ],
      "metadata": {
        "id": "mOEpA7Z0AEaT"
      },
      "execution_count": null,
      "outputs": []
    },
    {
      "cell_type": "code",
      "source": [
        "# applying softmax to the output\n",
        "probs = F.softmax(outputs, dim=1)\n",
        "\n",
        "print(probs[0])\n",
        "print(torch.sum(probs[0]))  # sums up to 1"
      ],
      "metadata": {
        "colab": {
          "base_uri": "https://localhost:8080/"
        },
        "id": "XZPwjRexAbxX",
        "outputId": "81e00053-7f3c-4eda-aced-031460a0c161"
      },
      "execution_count": null,
      "outputs": [
        {
          "output_type": "stream",
          "name": "stdout",
          "text": [
            "tensor([0.1402, 0.0828, 0.0686, 0.1070, 0.1027, 0.0934, 0.1103, 0.0811, 0.1072,\n",
            "        0.1068], grad_fn=<SelectBackward0>)\n",
            "tensor(1.0000, grad_fn=<SumBackward0>)\n"
          ]
        }
      ]
    },
    {
      "cell_type": "markdown",
      "source": [
        "#### doing the prediction -- getting argmax"
      ],
      "metadata": {
        "id": "M7AZa9zSA4h_"
      }
    },
    {
      "cell_type": "code",
      "source": [
        "max_prob, pred = torch.max(probs, dim=1)\n",
        "\n",
        "print(max_prob[0].item(), pred[0])"
      ],
      "metadata": {
        "colab": {
          "base_uri": "https://localhost:8080/"
        },
        "id": "m53RMCRhArA7",
        "outputId": "3f4f2c1a-6b1c-411b-b62f-6c97cc23c13a"
      },
      "execution_count": null,
      "outputs": [
        {
          "output_type": "stream",
          "name": "stdout",
          "text": [
            "0.14015550911426544 tensor(0)\n"
          ]
        }
      ]
    },
    {
      "cell_type": "markdown",
      "source": [
        "#### Evaluation matric and loss function\n",
        "\n",
        "accuracy is a good evaluation metric but can't be used for the derivative and backpropagation."
      ],
      "metadata": {
        "id": "9NSJ3TnmBTMI"
      }
    },
    {
      "cell_type": "code",
      "source": [
        "def accuracy(outputs, labels):\n",
        "  _, preds = torch.max(outputs, dim=1)\n",
        "  return torch.sum(preds == labels).item() / len(preds)"
      ],
      "metadata": {
        "id": "rjyYEY93BETb"
      },
      "execution_count": null,
      "outputs": []
    },
    {
      "cell_type": "code",
      "source": [
        "# cross entropy internally has the softmax function\n",
        "loss_fn = F.cross_entropy"
      ],
      "metadata": {
        "id": "z0djeazmBlYh"
      },
      "execution_count": null,
      "outputs": []
    },
    {
      "cell_type": "code",
      "source": [
        "loss = loss_fn(outputs, labels)\n",
        "print(loss)"
      ],
      "metadata": {
        "colab": {
          "base_uri": "https://localhost:8080/"
        },
        "id": "cJFMHcVrCHJ9",
        "outputId": "0fb1a36e-2f8d-4dc3-9693-b652c466a500"
      },
      "execution_count": null,
      "outputs": [
        {
          "output_type": "stream",
          "name": "stdout",
          "text": [
            "tensor(2.2963, grad_fn=<NllLossBackward0>)\n"
          ]
        }
      ]
    },
    {
      "cell_type": "markdown",
      "source": [
        "#### Optimizer"
      ],
      "metadata": {
        "id": "mscskCQpCeST"
      }
    },
    {
      "cell_type": "code",
      "source": [
        "learning_rate = 0.001\n",
        "optimizer = torch.optim.SGD(model.parameters(), lr=learning_rate)"
      ],
      "metadata": {
        "id": "MGlbGr_UCSnv"
      },
      "execution_count": null,
      "outputs": []
    },
    {
      "cell_type": "markdown",
      "source": [
        "#### Training the model"
      ],
      "metadata": {
        "id": "22Eh4eImCoV1"
      }
    },
    {
      "cell_type": "code",
      "source": [
        "def loss_batch(model, loss_func, xb, yb, opt=None, metric=None):\n",
        "  \"\"\"\n",
        "    Opt is optional and it will be only used for training, not for the validation\n",
        "  \"\"\"\n",
        "  # calculate the loss\n",
        "  preds = model(xb)\n",
        "  loss = loss_func(preds, yb)\n",
        "\n",
        "  if opt is not None:\n",
        "    # compute the gradients \n",
        "    loss.backward()\n",
        "    # update the parameters\n",
        "    opt.step()\n",
        "    # reset the gradients\n",
        "    opt.zero_grad()\n",
        "\n",
        "  metric_result = None\n",
        "  if metric is not None:\n",
        "    # compute the metric\n",
        "    metric_result = metric(preds, yb)\n",
        "\n",
        "  return loss.item(), len(xb), metric_result"
      ],
      "metadata": {
        "id": "5DbIezhTCnPv"
      },
      "execution_count": null,
      "outputs": []
    },
    {
      "cell_type": "code",
      "source": [
        "def evaluate(model, loss_fn, valid_dl, metric=None):\n",
        "  with torch.no_grad():\n",
        "    # pass each batch through the model\n",
        "    results = [loss_batch(model, loss_fn, xb, yb, metric=metric) for xb, yb in valid_dl]\n",
        "\n",
        "    # seperate losses, counts, and metrics\n",
        "    losses, nums, metrics = zip(*results)\n",
        "\n",
        "    # total size of the dataset\n",
        "    total = np.sum(nums)\n",
        "\n",
        "    # Avg. loss across batches\n",
        "    avg_loss = np.sum(np.multiply(losses, nums)) / total\n",
        "    avg_metric = None\n",
        "    if metric is not None:\n",
        "      avg_metric = np.sum(np.multiply(metrics, nums)) / total\n",
        "\n",
        "  return avg_loss, total, avg_metric"
      ],
      "metadata": {
        "id": "j7tHmyIJDrem"
      },
      "execution_count": null,
      "outputs": []
    },
    {
      "cell_type": "code",
      "source": [
        "def accuracy(outputs, labels):\n",
        "  _, preds = torch.max(outputs, dim=1)\n",
        "  return torch.sum(preds == labels).item() / len(preds)"
      ],
      "metadata": {
        "id": "gpd0Bq3CGTEb"
      },
      "execution_count": null,
      "outputs": []
    },
    {
      "cell_type": "markdown",
      "source": [
        "Checking the performance of the model over the validation set"
      ],
      "metadata": {
        "id": "jF9sqzKVG2Ap"
      }
    },
    {
      "cell_type": "code",
      "source": [
        "val_loss, total, val_acc = evaluate(model, loss_fn, val_loader, metric=accuracy)\n",
        "print(val_loss, total, val_acc)"
      ],
      "metadata": {
        "colab": {
          "base_uri": "https://localhost:8080/"
        },
        "id": "nebJHl4gEtu0",
        "outputId": "9b45f139-c272-45d4-e04c-012a6f5b753f"
      },
      "execution_count": null,
      "outputs": [
        {
          "output_type": "stream",
          "name": "stdout",
          "text": [
            "2.308418416595459 10000 0.1297\n"
          ]
        }
      ]
    },
    {
      "cell_type": "code",
      "source": [
        "def fit(epochs, model, loss_fn, opt, train_dl, valid_dl, metric=None):\n",
        "\n",
        "  for epoch in range(epochs):\n",
        "    # training \n",
        "    for xb, yb in train_dl:\n",
        "      loss, _, _ = loss_batch(model, loss_fn, xb, yb, opt)\n",
        "\n",
        "    # evaluation\n",
        "    result = evaluate(model, loss_fn, valid_dl, metric)\n",
        "    val_loss, total, val_metric = result\n",
        "\n",
        "    # print progress\n",
        "    if metric is not None:\n",
        "      print('Epoch [{}/{}], loss: {:.4f}'.\n",
        "            format(epoch+1, epochs, val_loss))\n",
        "    else:\n",
        "      print('Epoch [{}/{}], loss: {:.4f}, {}: {:.4f}'\n",
        "      .format(epoch+1, epochs, val_loss, metric.__name__, val_metric))"
      ],
      "metadata": {
        "id": "yYh4KS6oE9Pg"
      },
      "execution_count": null,
      "outputs": []
    },
    {
      "cell_type": "markdown",
      "source": [
        "#### redefining model and optimizer"
      ],
      "metadata": {
        "id": "eOlciYJXJPY5"
      }
    },
    {
      "cell_type": "code",
      "source": [
        "model = MNISTModel()\n",
        "optimizer = torch.optim.SGD(model.parameters(), lr=learning_rate)"
      ],
      "metadata": {
        "id": "MjWzj1PHJOQb"
      },
      "execution_count": null,
      "outputs": []
    },
    {
      "cell_type": "code",
      "source": [
        "fit(5, model, F.cross_entropy, optimizer, train_loader, val_loader, accuracy)"
      ],
      "metadata": {
        "colab": {
          "base_uri": "https://localhost:8080/"
        },
        "id": "eWUhyq9rJcme",
        "outputId": "9f588028-7530-49a7-914b-cc479f110a55"
      },
      "execution_count": null,
      "outputs": [
        {
          "output_type": "stream",
          "name": "stdout",
          "text": [
            "Epoch [1/5], loss: 1.0575\n",
            "Epoch [2/5], loss: 0.9972\n",
            "Epoch [3/5], loss: 0.9469\n",
            "Epoch [4/5], loss: 0.9045\n",
            "Epoch [5/5], loss: 0.8681\n"
          ]
        }
      ]
    },
    {
      "cell_type": "code",
      "source": [],
      "metadata": {
        "id": "eAGPBhi3JjnS"
      },
      "execution_count": null,
      "outputs": []
    }
  ]
}